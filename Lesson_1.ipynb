{
 "cells": [
  {
   "cell_type": "code",
   "execution_count": 8,
   "id": "ba63efa3",
   "metadata": {},
   "outputs": [
    {
     "name": "stdout",
     "output_type": "stream",
     "text": [
      "[[ 1  6]\n",
      " [ 2  8]\n",
      " [ 3 11]\n",
      " [ 3 10]\n",
      " [ 1  7]]\n",
      "[2.  8.4]\n"
     ]
    }
   ],
   "source": [
    "import numpy as np\n",
    "\n",
    "a = np.array([[1, 6],\n",
    "              [2, 8],\n",
    "              [3, 11],\n",
    "              [3, 10],\n",
    "              [1, 7]])\n",
    "print(a)\n",
    "\n",
    "mean_a = a.mean(axis=0)\n",
    "print(mean_a)\n"
   ]
  },
  {
   "cell_type": "code",
   "execution_count": 10,
   "id": "a566c37a",
   "metadata": {},
   "outputs": [
    {
     "name": "stdout",
     "output_type": "stream",
     "text": [
      "[[-1.  -2.4]\n",
      " [ 0.  -0.4]\n",
      " [ 1.   2.6]\n",
      " [ 1.   1.6]\n",
      " [-1.  -1.4]]\n"
     ]
    }
   ],
   "source": [
    "a_centered = a - mean_a\n",
    "print(a_centered)"
   ]
  },
  {
   "cell_type": "code",
   "execution_count": 11,
   "id": "96a0f650",
   "metadata": {},
   "outputs": [
    {
     "name": "stdout",
     "output_type": "stream",
     "text": [
      "[[-1.  -2.4]\n",
      " [ 0.  -0.4]\n",
      " [ 1.   2.6]\n",
      " [ 1.   1.6]\n",
      " [-1.  -1.4]]\n"
     ]
    }
   ],
   "source": [
    "a_centered_sp = a_centered.dot\n",
    "print(a_centered)"
   ]
  },
  {
   "cell_type": "code",
   "execution_count": 13,
   "id": "9b14be11",
   "metadata": {},
   "outputs": [
    {
     "name": "stdout",
     "output_type": "stream",
     "text": [
      "8.0\n"
     ]
    },
    {
     "data": {
      "text/plain": [
       "2.0"
      ]
     },
     "execution_count": 13,
     "metadata": {},
     "output_type": "execute_result"
    }
   ],
   "source": [
    "a_centered_sp = a_centered.T[0] @ a_centered.T[1]\n",
    "print(a_centered_sp)\n",
    "\n",
    "a_centered_sp/4"
   ]
  },
  {
   "cell_type": "code",
   "execution_count": 23,
   "id": "128852e1",
   "metadata": {},
   "outputs": [
    {
     "name": "stdout",
     "output_type": "stream",
     "text": [
      "   author_id author_name\n",
      "0          1    Тургенев\n",
      "1          2       Чехов\n",
      "2          3  Островский\n"
     ]
    }
   ],
   "source": [
    "import pandas as pd\n",
    "\n",
    "authors = pd.DataFrame({'author_id':[1, 2, 3], \n",
    "                        'author_name':['Тургенев', 'Чехов', 'Островский']}, \n",
    "                       columns=['author_id', 'author_name'])\n",
    "print(authors)"
   ]
  },
  {
   "cell_type": "code",
   "execution_count": 25,
   "id": "f15255bc",
   "metadata": {},
   "outputs": [
    {
     "name": "stdout",
     "output_type": "stream",
     "text": [
      "   author_id            book_title  price\n",
      "0          1           Отцы и дети    450\n",
      "1          1                 Рудин    300\n",
      "2          1     Дворянское гнездо    350\n",
      "3          2      Толстый и тонкий    500\n",
      "4          2       Дама с собачкой    450\n",
      "5          3                 Гроза    370\n",
      "6          3  Таланты и поклонники    290\n"
     ]
    }
   ],
   "source": [
    "book = pd.DataFrame({'author_id':[1, 1, 1, 2, 2, 3, 3], \n",
    "                     'book_title':['Отцы и дети', 'Рудин', 'Дворянское гнездо', 'Толстый и тонкий',\n",
    "                                   'Дама с собачкой', 'Гроза', 'Таланты и поклонники'], \n",
    "                     'price':[450, 300, 350, 500, 450, 370, 290]}, \n",
    "                    columns=['author_id', 'book_title', 'price'])\n",
    "print(book)"
   ]
  },
  {
   "cell_type": "code",
   "execution_count": 26,
   "id": "ee30f1a1",
   "metadata": {},
   "outputs": [
    {
     "name": "stdout",
     "output_type": "stream",
     "text": [
      "   author_id author_name            book_title  price\n",
      "0          1    Тургенев           Отцы и дети    450\n",
      "1          1    Тургенев                 Рудин    300\n",
      "2          1    Тургенев     Дворянское гнездо    350\n",
      "3          2       Чехов      Толстый и тонкий    500\n",
      "4          2       Чехов       Дама с собачкой    450\n",
      "5          3  Островский                 Гроза    370\n",
      "6          3  Островский  Таланты и поклонники    290\n"
     ]
    }
   ],
   "source": [
    "authors_price = pd.merge(authors, book, on = 'author_id', how = 'outer')\n",
    "print(authors_price)"
   ]
  },
  {
   "cell_type": "code",
   "execution_count": 27,
   "id": "6a67fa13",
   "metadata": {},
   "outputs": [
    {
     "name": "stdout",
     "output_type": "stream",
     "text": [
      "   author_id author_name         book_title  price\n",
      "3          2       Чехов   Толстый и тонкий    500\n",
      "0          1    Тургенев        Отцы и дети    450\n",
      "4          2       Чехов    Дама с собачкой    450\n",
      "5          3  Островский              Гроза    370\n",
      "2          1    Тургенев  Дворянское гнездо    350\n"
     ]
    }
   ],
   "source": [
    "top5 = authors_price.nlargest(5, 'price')\n",
    "print(top5)"
   ]
  },
  {
   "cell_type": "code",
   "execution_count": 28,
   "id": "7a30ebbe",
   "metadata": {},
   "outputs": [
    {
     "name": "stdout",
     "output_type": "stream",
     "text": [
      "Тургенев      3\n",
      "Чехов         2\n",
      "Островский    2\n",
      "Name: author_name, dtype: int64\n",
      "                price                      \n",
      "            min_price max_price  mean_price\n",
      "author_name                                \n",
      "Островский        290       370  330.000000\n",
      "Тургенев          300       450  366.666667\n",
      "Чехов             450       500  475.000000\n"
     ]
    }
   ],
   "source": [
    "authors_stat = authors_price['author_name'].value_counts()\n",
    "print(authors_stat)\n",
    "\n",
    "authors_stat = authors_price.groupby('author_name').agg({'price':['min', 'max', 'mean']})\n",
    "authors_stat = authors_stat.rename(columns={'min':'min_price', 'max':'max_price', 'mean':'mean_price'})\n",
    "print(authors_stat)"
   ]
  }
 ],
 "metadata": {
  "kernelspec": {
   "display_name": "Python 3 (ipykernel)",
   "language": "python",
   "name": "python3"
  },
  "language_info": {
   "codemirror_mode": {
    "name": "ipython",
    "version": 3
   },
   "file_extension": ".py",
   "mimetype": "text/x-python",
   "name": "python",
   "nbconvert_exporter": "python",
   "pygments_lexer": "ipython3",
   "version": "3.9.12"
  }
 },
 "nbformat": 4,
 "nbformat_minor": 5
}
